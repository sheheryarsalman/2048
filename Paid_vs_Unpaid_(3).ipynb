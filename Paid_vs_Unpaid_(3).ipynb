{
  "cells": [
    {
      "cell_type": "markdown",
      "metadata": {
        "id": "view-in-github",
        "colab_type": "text"
      },
      "source": [
        "<a href=\"https://colab.research.google.com/github/sheheryarsalman/2048/blob/master/Paid_vs_Unpaid_(3).ipynb\" target=\"_parent\"><img src=\"https://colab.research.google.com/assets/colab-badge.svg\" alt=\"Open In Colab\"/></a>"
      ]
    },
    {
      "cell_type": "code",
      "execution_count": null,
      "id": "2481c38a",
      "metadata": {
        "id": "2481c38a"
      },
      "outputs": [],
      "source": [
        "# Import libraries\n",
        "import numpy as np\n",
        "import pandas as pd\n",
        "import matplotlib.pyplot as plt\n",
        "import seaborn as sns\n",
        "from datetime import datetime\n",
        "import statsmodels.api as sm\n",
        "from statsmodels.formula.api import ols"
      ]
    },
    {
      "cell_type": "code",
      "execution_count": null,
      "id": "147f124a",
      "metadata": {
        "id": "147f124a"
      },
      "outputs": [],
      "source": [
        "paid_unpaid = pd.read_csv('classes_cleanedv3.csv')"
      ]
    },
    {
      "cell_type": "code",
      "execution_count": null,
      "id": "9d49ed06",
      "metadata": {
        "id": "9d49ed06",
        "outputId": "72bfe765-18e6-4227-cc9f-914dcf2190fd"
      },
      "outputs": [
        {
          "name": "stdout",
          "output_type": "stream",
          "text": [
            "        booking_id class_name  center_id      state  class_capacity  \\\n",
            "1981  174book62801       yoga        174     ACTIVE              30   \n",
            "1982  174book62801       yoga        174     ACTIVE              30   \n",
            "1983  174book62802       yoga        174     ACTIVE              30   \n",
            "1984  174book62802       yoga        174     ACTIVE              30   \n",
            "1985  174book62802       yoga        174     ACTIVE              30   \n",
            "...            ...        ...        ...        ...             ...   \n",
            "6524  264book34961    yoga £2        264     ACTIVE              12   \n",
            "6525  264book34961    yoga £2        264     ACTIVE              12   \n",
            "6526  264book34962    yoga £2        264  CANCELLED              12   \n",
            "6527  264book34963    yoga £2        264  CANCELLED              12   \n",
            "6528  264book34964    yoga £2        264  CANCELLED              12   \n",
            "\n",
            "     participation_status  female  male  unknown  age_16_17  ...  offpeak_SS  \\\n",
            "1981            CANCELLED       2     0        0          0  ...     All Day   \n",
            "1982             ATTENDED       4     0        0          0  ...     All Day   \n",
            "1983            CANCELLED       6     0        0          0  ...     All Day   \n",
            "1984             ATTENDED       7     0        0          0  ...     All Day   \n",
            "1985              NO SHOW       6     0        0          0  ...     All Day   \n",
            "...                   ...     ...   ...      ...        ...  ...         ...   \n",
            "6524              NO SHOW       1     0        0          0  ...     All Day   \n",
            "6525            CANCELLED       1     0        0          0  ...     All Day   \n",
            "6526            CANCELLED       6     0        0          0  ...     All Day   \n",
            "6527            CANCELLED       2     0        0          0  ...     All Day   \n",
            "6528            CANCELLED       2     0        0          0  ...     All Day   \n",
            "\n",
            "      offpeak_MF_1_OPEN  offpeak_MF_1_CLOSE  offpeak_MF_2_OPEN  \\\n",
            "1981           00:00:00            15:30:00           20:30:00   \n",
            "1982           00:00:00            15:30:00           20:30:00   \n",
            "1983           00:00:00            15:30:00           20:30:00   \n",
            "1984           00:00:00            15:30:00           20:30:00   \n",
            "1985           00:00:00            15:30:00           20:30:00   \n",
            "...                 ...                 ...                ...   \n",
            "6524           00:00:00            16:00:00           21:00:00   \n",
            "6525           00:00:00            16:00:00           21:00:00   \n",
            "6526           00:00:00            16:00:00           21:00:00   \n",
            "6527           00:00:00            16:00:00           21:00:00   \n",
            "6528           00:00:00            16:00:00           21:00:00   \n",
            "\n",
            "      offpeak_MF_2_CLOSE  offpeak_MF_3_OPEN offpeak_MF_3_CLOSE  \\\n",
            "1981            00:00:00                NaN                NaN   \n",
            "1982            00:00:00                NaN                NaN   \n",
            "1983            00:00:00                NaN                NaN   \n",
            "1984            00:00:00                NaN                NaN   \n",
            "1985            00:00:00                NaN                NaN   \n",
            "...                  ...                ...                ...   \n",
            "6524            00:00:00                NaN                NaN   \n",
            "6525            00:00:00                NaN                NaN   \n",
            "6526            00:00:00                NaN                NaN   \n",
            "6527            00:00:00                NaN                NaN   \n",
            "6528            00:00:00                NaN                NaN   \n",
            "\n",
            "     offpeak_MF_4_OPEN offpeak_MF_4_CLOSE is_offpeak  \n",
            "1981               NaN                NaN       True  \n",
            "1982               NaN                NaN       True  \n",
            "1983               NaN                NaN       True  \n",
            "1984               NaN                NaN       True  \n",
            "1985               NaN                NaN       True  \n",
            "...                ...                ...        ...  \n",
            "6524               NaN                NaN       True  \n",
            "6525               NaN                NaN       True  \n",
            "6526               NaN                NaN       True  \n",
            "6527               NaN                NaN       True  \n",
            "6528               NaN                NaN       True  \n",
            "\n",
            "[308 rows x 46 columns]\n"
          ]
        }
      ],
      "source": [
        "# Crearting DataFrame with data filtered for paid vs. unpaid classes (yoga/yoga£2, pilates/pilates£2)\n",
        "\n",
        "filtered_classes = paid_unpaid[paid_unpaid['class_name'].isin(['pilates', 'yoga', 'pilates £2', 'yoga £2'])]\n",
        "\n",
        "\n",
        "print(filtered_classes)"
      ]
    },
    {
      "cell_type": "code",
      "execution_count": null,
      "id": "b1afca38",
      "metadata": {
        "id": "b1afca38",
        "outputId": "20695558-5c4f-49fd-dda7-a70a9efa3c15"
      },
      "outputs": [
        {
          "name": "stdout",
          "output_type": "stream",
          "text": [
            "yoga          179\n",
            "pilates        59\n",
            "yoga £2        37\n",
            "pilates £2     33\n",
            "Name: class_name, dtype: int64\n"
          ]
        }
      ],
      "source": [
        "# Checking class count for each\n",
        "class_counts = filtered_classes['class_name'].value_counts()\n",
        "\n",
        "print(class_counts)"
      ]
    },
    {
      "cell_type": "code",
      "execution_count": null,
      "id": "e7f002f0",
      "metadata": {
        "id": "e7f002f0",
        "outputId": "6fec4a19-4d56-46b8-aac7-c71e611cbdd7"
      },
      "outputs": [
        {
          "data": {
            "image/png": "[encoded data removed]",
            "text/plain": [
              "<Figure size 640x480 with 1 Axes>"
            ]
          },
          "metadata": {},
          "output_type": "display_data"
        }
      ],
      "source": [
        "# Plotting data\n",
        "class_counts.plot(kind='bar', color=['blue', 'orange', 'green', 'red'])\n",
        "\n",
        "plt.title('Class Counts')\n",
        "plt.xlabel('Class Name')\n",
        "plt.ylabel('Count')\n",
        "plt.xticks(rotation=45)\n",
        "plt.show()"
      ]
    },
    {
      "cell_type": "code",
      "execution_count": null,
      "id": "b14523cf",
      "metadata": {
        "id": "b14523cf",
        "outputId": "68ed571f-b35e-428e-bd7d-ffeec6810a06"
      },
      "outputs": [
        {
          "data": {
            "text/html": [
              "<div>\n",
              "<style scoped>\n",
              "    .dataframe tbody tr th:only-of-type {\n",
              "        vertical-align: middle;\n",
              "    }\n",
              "\n",
              "    .dataframe tbody tr th {\n",
              "        vertical-align: top;\n",
              "    }\n",
              "\n",
              "    .dataframe thead th {\n",
              "        text-align: right;\n",
              "    }\n",
              "</style>\n",
              "<table border=\"1\" class=\"dataframe\">\n",
              "  <thead>\n",
              "    <tr style=\"text-align: right;\">\n",
              "      <th>participation_status</th>\n",
              "      <th>ATTENDED</th>\n",
              "      <th>BOOKED</th>\n",
              "      <th>CANCELLED</th>\n",
              "      <th>NO SHOW</th>\n",
              "      <th>WAITING LIST</th>\n",
              "    </tr>\n",
              "    <tr>\n",
              "      <th>class_name</th>\n",
              "      <th></th>\n",
              "      <th></th>\n",
              "      <th></th>\n",
              "      <th></th>\n",
              "      <th></th>\n",
              "    </tr>\n",
              "  </thead>\n",
              "  <tbody>\n",
              "    <tr>\n",
              "      <th>pilates</th>\n",
              "      <td>19</td>\n",
              "      <td>4</td>\n",
              "      <td>22</td>\n",
              "      <td>13</td>\n",
              "      <td>1</td>\n",
              "    </tr>\n",
              "    <tr>\n",
              "      <th>pilates £2</th>\n",
              "      <td>13</td>\n",
              "      <td>1</td>\n",
              "      <td>14</td>\n",
              "      <td>5</td>\n",
              "      <td>0</td>\n",
              "    </tr>\n",
              "    <tr>\n",
              "      <th>yoga</th>\n",
              "      <td>47</td>\n",
              "      <td>23</td>\n",
              "      <td>50</td>\n",
              "      <td>42</td>\n",
              "      <td>17</td>\n",
              "    </tr>\n",
              "    <tr>\n",
              "      <th>yoga £2</th>\n",
              "      <td>15</td>\n",
              "      <td>1</td>\n",
              "      <td>17</td>\n",
              "      <td>4</td>\n",
              "      <td>0</td>\n",
              "    </tr>\n",
              "  </tbody>\n",
              "</table>\n",
              "</div>"
            ],
            "text/plain": [
              "participation_status  ATTENDED  BOOKED  CANCELLED  NO SHOW  WAITING LIST\n",
              "class_name                                                              \n",
              "pilates                     19       4         22       13             1\n",
              "pilates £2                  13       1         14        5             0\n",
              "yoga                        47      23         50       42            17\n",
              "yoga £2                     15       1         17        4             0"
            ]
          },
          "execution_count": 6,
          "metadata": {},
          "output_type": "execute_result"
        }
      ],
      "source": [
        "# Group by 'class_name' and 'participation status', then count occurrences\n",
        "status_counts = filtered_classes.groupby(['class_name', 'participation_status']).size().unstack(fill_value=0)\n",
        "\n",
        "status_counts"
      ]
    },
    {
      "cell_type": "code",
      "execution_count": null,
      "id": "83b3be3b",
      "metadata": {
        "id": "83b3be3b",
        "outputId": "3d181cb5-b31e-4dc3-d318-1bde91c539d8"
      },
      "outputs": [
        {
          "data": {
            "image/png": "[encoded data removed]",
            "text/plain": [
              "<Figure size 1000x700 with 1 Axes>"
            ]
          },
          "metadata": {},
          "output_type": "display_data"
        }
      ],
      "source": [
        "# Visualising participation status by class name\n",
        "status_counts.plot(kind='bar', stacked=True, figsize=(10, 7))\n",
        "plt.title('Participation Status Counts by Class')\n",
        "plt.xlabel('Class Name')\n",
        "plt.ylabel('Count')\n",
        "plt.xticks(rotation=45)\n",
        "plt.legend(title='Participation Status')\n",
        "plt.tight_layout()\n",
        "plt.show()"
      ]
    },
    {
      "cell_type": "code",
      "execution_count": null,
      "id": "67ec1d3b",
      "metadata": {
        "id": "67ec1d3b",
        "outputId": "a4900832-a80a-4ebe-87d7-8ad25f5b4d49"
      },
      "outputs": [
        {
          "name": "stdout",
          "output_type": "stream",
          "text": [
            "class_name\n",
            "pilates       19\n",
            "pilates £2    13\n",
            "yoga          47\n",
            "yoga £2       15\n",
            "dtype: int64\n"
          ]
        }
      ],
      "source": [
        "# Filter rows where participation_status is 'ATTENDED'\n",
        "attended_classes = filtered_classes[filtered_classes['participation_status'] == 'ATTENDED']\n",
        "\n",
        "# Group by 'class_name' and count the occurrences\n",
        "attendance_counts = attended_classes.groupby('class_name').size()\n",
        "\n",
        "print(attendance_counts)"
      ]
    },
    {
      "cell_type": "code",
      "execution_count": null,
      "id": "7b5fa43b",
      "metadata": {
        "scrolled": true,
        "id": "7b5fa43b",
        "outputId": "a980068b-0228-464e-a221-b141dd6ae440"
      },
      "outputs": [
        {
          "data": {
            "text/html": [
              "<div>\n",
              "<style scoped>\n",
              "    .dataframe tbody tr th:only-of-type {\n",
              "        vertical-align: middle;\n",
              "    }\n",
              "\n",
              "    .dataframe tbody tr th {\n",
              "        vertical-align: top;\n",
              "    }\n",
              "\n",
              "    .dataframe thead th {\n",
              "        text-align: right;\n",
              "    }\n",
              "</style>\n",
              "<table border=\"1\" class=\"dataframe\">\n",
              "  <thead>\n",
              "    <tr style=\"text-align: right;\">\n",
              "      <th></th>\n",
              "      <th>female</th>\n",
              "      <th>male</th>\n",
              "      <th>unknown</th>\n",
              "      <th>age_16_17</th>\n",
              "      <th>age_18_22</th>\n",
              "      <th>age_23_28</th>\n",
              "      <th>age_29_34</th>\n",
              "      <th>age_35_44</th>\n",
              "      <th>age_over_45</th>\n",
              "    </tr>\n",
              "    <tr>\n",
              "      <th>class_name</th>\n",
              "      <th></th>\n",
              "      <th></th>\n",
              "      <th></th>\n",
              "      <th></th>\n",
              "      <th></th>\n",
              "      <th></th>\n",
              "      <th></th>\n",
              "      <th></th>\n",
              "      <th></th>\n",
              "    </tr>\n",
              "  </thead>\n",
              "  <tbody>\n",
              "    <tr>\n",
              "      <th>pilates</th>\n",
              "      <td>161</td>\n",
              "      <td>4</td>\n",
              "      <td>3</td>\n",
              "      <td>0</td>\n",
              "      <td>27</td>\n",
              "      <td>68</td>\n",
              "      <td>22</td>\n",
              "      <td>12</td>\n",
              "      <td>39</td>\n",
              "    </tr>\n",
              "    <tr>\n",
              "      <th>pilates £2</th>\n",
              "      <td>62</td>\n",
              "      <td>10</td>\n",
              "      <td>5</td>\n",
              "      <td>4</td>\n",
              "      <td>12</td>\n",
              "      <td>19</td>\n",
              "      <td>11</td>\n",
              "      <td>14</td>\n",
              "      <td>17</td>\n",
              "    </tr>\n",
              "    <tr>\n",
              "      <th>yoga</th>\n",
              "      <td>672</td>\n",
              "      <td>149</td>\n",
              "      <td>0</td>\n",
              "      <td>0</td>\n",
              "      <td>83</td>\n",
              "      <td>297</td>\n",
              "      <td>155</td>\n",
              "      <td>116</td>\n",
              "      <td>170</td>\n",
              "    </tr>\n",
              "    <tr>\n",
              "      <th>yoga £2</th>\n",
              "      <td>38</td>\n",
              "      <td>13</td>\n",
              "      <td>0</td>\n",
              "      <td>0</td>\n",
              "      <td>6</td>\n",
              "      <td>0</td>\n",
              "      <td>6</td>\n",
              "      <td>2</td>\n",
              "      <td>37</td>\n",
              "    </tr>\n",
              "  </tbody>\n",
              "</table>\n",
              "</div>"
            ],
            "text/plain": [
              "            female  male  unknown  age_16_17  age_18_22  age_23_28  age_29_34  \\\n",
              "class_name                                                                      \n",
              "pilates        161     4        3          0         27         68         22   \n",
              "pilates £2      62    10        5          4         12         19         11   \n",
              "yoga           672   149        0          0         83        297        155   \n",
              "yoga £2         38    13        0          0          6          0          6   \n",
              "\n",
              "            age_35_44  age_over_45  \n",
              "class_name                          \n",
              "pilates            12           39  \n",
              "pilates £2         14           17  \n",
              "yoga              116          170  \n",
              "yoga £2             2           37  "
            ]
          },
          "execution_count": 19,
          "metadata": {},
          "output_type": "execute_result"
        }
      ],
      "source": [
        "# Calculate the total attendance per class including the breakdown\n",
        "attendance_details = attended_classes.groupby('class_name').agg({\n",
        "    'female': 'sum',\n",
        "    'male': 'sum',\n",
        "    'unknown': 'sum',\n",
        "    # Add all age columns that you want to sum up\n",
        "    'age_16_17': 'sum',\n",
        "    'age_18_22': 'sum',\n",
        "    'age_23_28': 'sum',\n",
        "    'age_29_34': 'sum',\n",
        "    'age_35_44': 'sum',\n",
        "    'age_over_45': 'sum',\n",
        "})\n",
        "\n",
        "attendance_details"
      ]
    },
    {
      "cell_type": "code",
      "execution_count": null,
      "id": "15a8519f",
      "metadata": {
        "id": "15a8519f",
        "outputId": "f32eab82-7d10-43c5-f230-b1abc011fb41"
      },
      "outputs": [
        {
          "name": "stdout",
          "output_type": "stream",
          "text": [
            "class_name\n",
            "pilates       168\n",
            "pilates £2     77\n",
            "yoga          821\n",
            "yoga £2        51\n",
            "Name: total, dtype: int64\n"
          ]
        }
      ],
      "source": [
        "# Group by 'class_name' and sum up the 'female', 'male', and 'unknown' columns\n",
        "total_attendees = attended_classes.groupby('class_name')[['female', 'male', 'unknown']].sum()\n",
        "\n",
        "# Add a new column for total attendees\n",
        "total_attendees['total'] = total_attendees.sum(axis=1)\n",
        "\n",
        "print(total_attendees['total'])"
      ]
    },
    {
      "cell_type": "markdown",
      "id": "41e0bcae",
      "metadata": {
        "id": "41e0bcae"
      },
      "source": [
        "It is interesting to see that out of all classes yoga is popular with men more than any other class.\n",
        "\n",
        "Also, group over 35 is significantly high, what support argument of potential for utilising this class in off peak for older clients.\n",
        "\n",
        "Regular Pilates class has significantly more female participants and overall attendees than the Pilates £2 class. The age groups with the highest participation are 23-28 for regular Pilates and a more dispersed distribution for Pilates £2.\n",
        "\n",
        "Regular Yoga class showing a much higher overall attendance than the Yoga £2 class. Again, female participants dominate, especially in the regular Yoga class. The age group 23-28 has the highest participation in regular Yoga, while the Yoga £2 class has a significant number of participants over 35, despite the smaller overall numbers.\n",
        "\n",
        "The £2 pricing tier seems to attract fewer participants across both Pilates and Yoga. There's a significant gender disparity, with female participants overwhelmingly outnumbering male participants in all classes, which is common in Pilates and Yoga.\n",
        "The most active age groups vary between classes, but ages 23-28 seem particularly engaged in Yoga. Pilates attracts a broader age range, but still predominantly younger adults.\n",
        "Data Accuracy Concern: The overlapping age categories (age_35_44 and age_over_35) might indicate a need to clarify or correct the data categorization for accurate analysis."
      ]
    },
    {
      "cell_type": "code",
      "execution_count": null,
      "id": "25bba96f",
      "metadata": {
        "id": "25bba96f",
        "outputId": "f96351b6-293d-4fa4-e799-ff000eeb573d"
      },
      "outputs": [
        {
          "name": "stdout",
          "output_type": "stream",
          "text": [
            "   class_name class_capacity\n",
            "0     pilates       [30, 12]\n",
            "1  pilates £2       [30, 12]\n",
            "2        yoga           [30]\n",
            "3     yoga £2           [12]\n"
          ]
        },
        {
          "data": {
            "text/plain": [
              "class_name  class_capacity\n",
              "pilates     30                 57\n",
              "            12                  2\n",
              "pilates £2  30                 30\n",
              "            12                  3\n",
              "yoga        30                179\n",
              "yoga £2     12                 37\n",
              "Name: class_capacity, dtype: int64"
            ]
          },
          "execution_count": 11,
          "metadata": {},
          "output_type": "execute_result"
        }
      ],
      "source": [
        "# Group by 'class_name' and aggregate the unique 'class_capacity' values for each class\n",
        "capacity_options = filtered_classes.groupby('class_name')['class_capacity'].unique().reset_index()\n",
        "\n",
        "# Show the options for class capacity for each class\n",
        "print(capacity_options)\n",
        "\n",
        "# Count how many times each capacity appears for each class\n",
        "capacity_counts = filtered_classes.groupby('class_name')['class_capacity'].value_counts()\n",
        "\n",
        "capacity_counts"
      ]
    },
    {
      "cell_type": "markdown",
      "id": "69c7b2fa",
      "metadata": {
        "id": "69c7b2fa"
      },
      "source": [
        "Pilates & Pilates £2 have two session types or perhaps classes at different times or locations, with capacities of 30 and 12 participants, respectively.\n",
        "Yoga has a single class capacity of 30 participants. This larger capacity is in line with the higher number of total participants in yoga classes seen in the previous data.\n",
        "Yoga £2 has a significantly smaller class capacity of only 12 participants. This smaller capacity might explain the lower number of total participants compared to the regular Yoga class."
      ]
    },
    {
      "cell_type": "code",
      "execution_count": null,
      "id": "ef51284a",
      "metadata": {
        "id": "ef51284a",
        "outputId": "833e2ea6-e9d7-444b-e46b-dd39f0477a67"
      },
      "outputs": [
        {
          "name": "stdout",
          "output_type": "stream",
          "text": [
            "class_name\n",
            "pilates        8.842105\n",
            "pilates £2     5.923077\n",
            "yoga          17.468085\n",
            "yoga £2        3.400000\n",
            "dtype: float64\n"
          ]
        }
      ],
      "source": [
        "# Checking average attendance per class\n",
        "# Sum the 'female' and 'male' columns for each class_name to get the total attendance per class\n",
        "attendance_sum = attended_classes.groupby('class_name')[['female', 'male', 'unknown']].sum().sum(axis=1)\n",
        "\n",
        "# Count the number of attended sessions for each class_name\n",
        "session_counts = attended_classes.groupby('class_name').size()\n",
        "\n",
        "# Divide the total attendance by the number of attended sessions to get the average attendance per class\n",
        "average_attendance = attendance_sum / session_counts\n",
        "\n",
        "print(average_attendance)"
      ]
    },
    {
      "cell_type": "code",
      "execution_count": null,
      "id": "536000f8",
      "metadata": {
        "id": "536000f8",
        "outputId": "f1c1cbea-13aa-4233-fd3e-180b0649ddfc"
      },
      "outputs": [
        {
          "data": {
            "text/plain": [
              "class_name\n",
              "pilates       0.461538\n",
              "pilates £2    0.596899\n",
              "yoga          0.523931\n",
              "yoga £2       0.531250\n",
              "dtype: float64"
            ]
          },
          "execution_count": 13,
          "metadata": {},
          "output_type": "execute_result"
        }
      ],
      "source": [
        "# Sum the 'female' and 'male' columns for each class_name to get the total attendance per class\n",
        "attendance_sum = attended_classes.groupby('class_name')[['female', 'male', 'unknown']].sum().sum(axis=1)\n",
        "\n",
        "session_sum = filtered_classes.groupby('class_name')[['female', 'male', 'unknown']].sum().sum(axis=1)\n",
        "attendance_percentage = attendance_sum / session_sum\n",
        "\n",
        "attendance_percentage"
      ]
    },
    {
      "cell_type": "code",
      "execution_count": null,
      "id": "67a121ab",
      "metadata": {
        "scrolled": true,
        "id": "67a121ab",
        "outputId": "f1354a65-528f-4c1a-aa6b-59194e8da7a9"
      },
      "outputs": [
        {
          "data": {
            "image/png": "[encoded data removed]",
            "text/plain": [
              "<Figure size 1000x600 with 1 Axes>"
            ]
          },
          "metadata": {},
          "output_type": "display_data"
        }
      ],
      "source": [
        "# Convert the Series to a DataFrame for easier plotting\n",
        "attendance_percentage_df = attendance_percentage.reset_index()\n",
        "attendance_percentage_df.columns = ['class_name', 'attendance_percentage']\n",
        "\n",
        "# Create the bar plot\n",
        "plt.figure(figsize=(10, 6))  # Adjust the size as needed\n",
        "plt.bar(attendance_percentage_df['class_name'], attendance_percentage_df['attendance_percentage'])\n",
        "\n",
        "# Add title and labels\n",
        "plt.title('Attendance Percentage by Class Name')\n",
        "plt.xlabel('Class Name')\n",
        "plt.ylabel('Attendance Percentage')\n",
        "\n",
        "# Show the plot\n",
        "plt.show()"
      ]
    },
    {
      "cell_type": "markdown",
      "id": "2c4e8a45",
      "metadata": {
        "id": "2c4e8a45"
      },
      "source": [
        "Results show that out of all clients that signed up for the class, this percentage attended."
      ]
    },
    {
      "cell_type": "code",
      "execution_count": null,
      "id": "55aa4317",
      "metadata": {
        "id": "55aa4317",
        "outputId": "279bdb23-9e5c-4f58-aac5-3cc6cb0e639e"
      },
      "outputs": [
        {
          "name": "stderr",
          "output_type": "stream",
          "text": [
            "C:\\Users\\alicja.walaszek\\AppData\\Local\\Temp\\ipykernel_10432\\1854224341.py:3: SettingWithCopyWarning: \n",
            "A value is trying to be set on a copy of a slice from a DataFrame.\n",
            "Try using .loc[row_indexer,col_indexer] = value instead\n",
            "\n",
            "See the caveats in the documentation: https://pandas.pydata.org/pandas-docs/stable/user_guide/indexing.html#returning-a-view-versus-a-copy\n",
            "  filtered_classes['attendance_rate'] = filtered_classes.apply(\n"
          ]
        },
        {
          "data": {
            "text/html": [
              "<div>\n",
              "<style scoped>\n",
              "    .dataframe tbody tr th:only-of-type {\n",
              "        vertical-align: middle;\n",
              "    }\n",
              "\n",
              "    .dataframe tbody tr th {\n",
              "        vertical-align: top;\n",
              "    }\n",
              "\n",
              "    .dataframe thead th {\n",
              "        text-align: right;\n",
              "    }\n",
              "</style>\n",
              "<table border=\"1\" class=\"dataframe\">\n",
              "  <thead>\n",
              "    <tr style=\"text-align: right;\">\n",
              "      <th></th>\n",
              "      <th>class_name</th>\n",
              "      <th>center_id</th>\n",
              "      <th>attendance_rate</th>\n",
              "    </tr>\n",
              "  </thead>\n",
              "  <tbody>\n",
              "    <tr>\n",
              "      <th>0</th>\n",
              "      <td>pilates</td>\n",
              "      <td>174</td>\n",
              "      <td>0.208187</td>\n",
              "    </tr>\n",
              "    <tr>\n",
              "      <th>1</th>\n",
              "      <td>pilates</td>\n",
              "      <td>264</td>\n",
              "      <td>0.333333</td>\n",
              "    </tr>\n",
              "    <tr>\n",
              "      <th>2</th>\n",
              "      <td>pilates £2</td>\n",
              "      <td>174</td>\n",
              "      <td>0.132222</td>\n",
              "    </tr>\n",
              "    <tr>\n",
              "      <th>3</th>\n",
              "      <td>pilates £2</td>\n",
              "      <td>264</td>\n",
              "      <td>0.277778</td>\n",
              "    </tr>\n",
              "    <tr>\n",
              "      <th>4</th>\n",
              "      <td>yoga</td>\n",
              "      <td>174</td>\n",
              "      <td>0.291806</td>\n",
              "    </tr>\n",
              "    <tr>\n",
              "      <th>5</th>\n",
              "      <td>yoga £2</td>\n",
              "      <td>264</td>\n",
              "      <td>0.216216</td>\n",
              "    </tr>\n",
              "  </tbody>\n",
              "</table>\n",
              "</div>"
            ],
            "text/plain": [
              "   class_name  center_id  attendance_rate\n",
              "0     pilates        174         0.208187\n",
              "1     pilates        264         0.333333\n",
              "2  pilates £2        174         0.132222\n",
              "3  pilates £2        264         0.277778\n",
              "4        yoga        174         0.291806\n",
              "5     yoga £2        264         0.216216"
            ]
          },
          "execution_count": 15,
          "metadata": {},
          "output_type": "execute_result"
        }
      ],
      "source": [
        "# Attendance Analysis\n",
        "# We could calculate the average attendance rate by dividing the sum of attendees by the class capacity\n",
        "filtered_classes['attendance_rate'] = filtered_classes.apply(\n",
        "    lambda row: (row['female'] + row['male'] + row['unknown']) / row['class_capacity'], axis=1)\n",
        "attendance_summary = filtered_classes.groupby(['class_name', 'center_id'])['attendance_rate'].mean().reset_index()\n",
        "\n",
        "# Show result\n",
        "attendance_summary"
      ]
    },
    {
      "cell_type": "markdown",
      "id": "4446682c",
      "metadata": {
        "id": "4446682c"
      },
      "source": [
        "Pilates classes at center 264 have a higher attendance rate compared to center 174.\n",
        "Paid pilates classes (£2) have a lower attendance rate at center 174 than the unpaid ones, while at center 264, the attendance rate for paid classes is closer to that of the unpaid ones.\n",
        "Yoga classes at center 174 have a higher attendance rate than pilates classes at the same center.\n",
        "There is a noticeable difference between the attendance rates of paid and unpaid classes, which might suggest the influence of pricing on attendance.\n",
        "These differences may indicate where to focus marketing efforts, whether pricing strategies are effective."
      ]
    },
    {
      "cell_type": "code",
      "execution_count": null,
      "id": "956d5a0c",
      "metadata": {
        "id": "956d5a0c",
        "outputId": "d94da114-0430-42c8-9d21-fa7de9768e75"
      },
      "outputs": [
        {
          "data": {
            "image/png": "[encoded data removed]",
            "text/plain": [
              "<Figure size 1000x800 with 1 Axes>"
            ]
          },
          "metadata": {},
          "output_type": "display_data"
        }
      ],
      "source": [
        "# Visualization\n",
        "plt.figure(figsize=(10, 8))\n",
        "\n",
        "sns.barplot(x='class_name', y='attendance_rate', data=attendance_summary)\n",
        "\n",
        "plt.title('Average Attendance Rate by Class')\n",
        "plt.xlabel('Class Name')\n",
        "plt.ylabel('Average Attendance Rate')\n",
        "plt.tight_layout()\n",
        "plt.show()"
      ]
    },
    {
      "cell_type": "code",
      "execution_count": null,
      "id": "2d3469d8",
      "metadata": {
        "id": "2d3469d8",
        "outputId": "37e7e88f-b9c2-4c92-9902-e6f68b5c2fc8"
      },
      "outputs": [
        {
          "data": {
            "text/html": [
              "<div>\n",
              "<style scoped>\n",
              "    .dataframe tbody tr th:only-of-type {\n",
              "        vertical-align: middle;\n",
              "    }\n",
              "\n",
              "    .dataframe tbody tr th {\n",
              "        vertical-align: top;\n",
              "    }\n",
              "\n",
              "    .dataframe thead th {\n",
              "        text-align: right;\n",
              "    }\n",
              "</style>\n",
              "<table border=\"1\" class=\"dataframe\">\n",
              "  <thead>\n",
              "    <tr style=\"text-align: right;\">\n",
              "      <th>class_name</th>\n",
              "      <th>pilates</th>\n",
              "      <th>pilates £2</th>\n",
              "      <th>yoga</th>\n",
              "      <th>yoga £2</th>\n",
              "    </tr>\n",
              "    <tr>\n",
              "      <th>booking_id</th>\n",
              "      <th></th>\n",
              "      <th></th>\n",
              "      <th></th>\n",
              "      <th></th>\n",
              "    </tr>\n",
              "  </thead>\n",
              "  <tbody>\n",
              "    <tr>\n",
              "      <th>174book62801</th>\n",
              "      <td>NaN</td>\n",
              "      <td>NaN</td>\n",
              "      <td>0.200000</td>\n",
              "      <td>NaN</td>\n",
              "    </tr>\n",
              "    <tr>\n",
              "      <th>174book62802</th>\n",
              "      <td>NaN</td>\n",
              "      <td>NaN</td>\n",
              "      <td>0.633333</td>\n",
              "      <td>NaN</td>\n",
              "    </tr>\n",
              "    <tr>\n",
              "      <th>174book62803</th>\n",
              "      <td>NaN</td>\n",
              "      <td>NaN</td>\n",
              "      <td>0.466667</td>\n",
              "      <td>NaN</td>\n",
              "    </tr>\n",
              "    <tr>\n",
              "      <th>174book62804</th>\n",
              "      <td>NaN</td>\n",
              "      <td>NaN</td>\n",
              "      <td>0.800000</td>\n",
              "      <td>NaN</td>\n",
              "    </tr>\n",
              "    <tr>\n",
              "      <th>174book62805</th>\n",
              "      <td>NaN</td>\n",
              "      <td>NaN</td>\n",
              "      <td>0.566667</td>\n",
              "      <td>NaN</td>\n",
              "    </tr>\n",
              "    <tr>\n",
              "      <th>...</th>\n",
              "      <td>...</td>\n",
              "      <td>...</td>\n",
              "      <td>...</td>\n",
              "      <td>...</td>\n",
              "    </tr>\n",
              "    <tr>\n",
              "      <th>264book31965</th>\n",
              "      <td>NaN</td>\n",
              "      <td>NaN</td>\n",
              "      <td>NaN</td>\n",
              "      <td>0.500000</td>\n",
              "    </tr>\n",
              "    <tr>\n",
              "      <th>264book34961</th>\n",
              "      <td>NaN</td>\n",
              "      <td>NaN</td>\n",
              "      <td>NaN</td>\n",
              "      <td>0.416667</td>\n",
              "    </tr>\n",
              "    <tr>\n",
              "      <th>264book34962</th>\n",
              "      <td>NaN</td>\n",
              "      <td>NaN</td>\n",
              "      <td>NaN</td>\n",
              "      <td>0.500000</td>\n",
              "    </tr>\n",
              "    <tr>\n",
              "      <th>264book34963</th>\n",
              "      <td>NaN</td>\n",
              "      <td>NaN</td>\n",
              "      <td>NaN</td>\n",
              "      <td>0.166667</td>\n",
              "    </tr>\n",
              "    <tr>\n",
              "      <th>264book34964</th>\n",
              "      <td>NaN</td>\n",
              "      <td>NaN</td>\n",
              "      <td>NaN</td>\n",
              "      <td>0.166667</td>\n",
              "    </tr>\n",
              "  </tbody>\n",
              "</table>\n",
              "<p>106 rows × 4 columns</p>\n",
              "</div>"
            ],
            "text/plain": [
              "class_name    pilates  pilates £2      yoga   yoga £2\n",
              "booking_id                                           \n",
              "174book62801      NaN         NaN  0.200000       NaN\n",
              "174book62802      NaN         NaN  0.633333       NaN\n",
              "174book62803      NaN         NaN  0.466667       NaN\n",
              "174book62804      NaN         NaN  0.800000       NaN\n",
              "174book62805      NaN         NaN  0.566667       NaN\n",
              "...               ...         ...       ...       ...\n",
              "264book31965      NaN         NaN       NaN  0.500000\n",
              "264book34961      NaN         NaN       NaN  0.416667\n",
              "264book34962      NaN         NaN       NaN  0.500000\n",
              "264book34963      NaN         NaN       NaN  0.166667\n",
              "264book34964      NaN         NaN       NaN  0.166667\n",
              "\n",
              "[106 rows x 4 columns]"
            ]
          },
          "execution_count": 17,
          "metadata": {},
          "output_type": "execute_result"
        }
      ],
      "source": [
        "# Group by 'booking_id' and 'class_name' to calculate the sum of females, males, and unknowns\n",
        "attendance_counts = filtered_classes.groupby(['booking_id', 'class_name']).agg({\n",
        "    'female': 'sum',\n",
        "    'male': 'sum',\n",
        "    'unknown': 'sum'\n",
        "}).reset_index()\n",
        "\n",
        "# Calculate the total attendance by adding the sum of females, males, and unknowns\n",
        "attendance_counts['total_attendance'] = attendance_counts['female'] + attendance_counts['male'] + attendance_counts['unknown']\n",
        "\n",
        "# Now, we get the class capacity for each booking_id (assuming capacity is constant for each booking_id)\n",
        "# Also, make sure to keep the class_name associated with each booking_id\n",
        "class_capacities = filtered_classes.drop_duplicates('booking_id')[['booking_id', 'class_name', 'class_capacity']].set_index(['booking_id', 'class_name'])\n",
        "\n",
        "# Calculate the attendance ratio for each booking_id and class_name\n",
        "attendance_counts['attendance_ratio'] = attendance_counts.apply(\n",
        "    lambda row: row['total_attendance'] / class_capacities.loc[(row['booking_id'], row['class_name']), 'class_capacity'], axis=1)\n",
        "\n",
        "# Now let's print the attendance ratio, associated with each class_name\n",
        "attendance_ratio_by_class = attendance_counts.pivot(index='booking_id', columns='class_name', values='attendance_ratio')\n",
        "\n",
        "attendance_ratio_by_class"
      ]
    },
    {
      "cell_type": "code",
      "execution_count": null,
      "id": "6b39ec3c",
      "metadata": {
        "id": "6b39ec3c",
        "outputId": "501ecb9a-a458-4213-ed93-bca65f17bb23"
      },
      "outputs": [
        {
          "name": "stdout",
          "output_type": "stream",
          "text": [
            "participation_status  attended_to_cancelled_ratio\n",
            "class_name                                       \n",
            "pilates                                  0.863636\n",
            "pilates £2                               0.928571\n",
            "yoga                                     0.940000\n",
            "yoga £2                                  0.882353\n"
          ]
        }
      ],
      "source": [
        "# Attended to Cancelled ratio for paid and unpaid classes\n",
        "\n",
        "# Calculate the ratio of ATTENDED to CANCELLED for each category\n",
        "status_counts['attended_to_cancelled_ratio'] = status_counts['ATTENDED'] / status_counts['CANCELLED']\n",
        "\n",
        "# Output the ratio\n",
        "print(status_counts[['attended_to_cancelled_ratio']])"
      ]
    },
    {
      "cell_type": "markdown",
      "id": "72505867",
      "metadata": {
        "id": "72505867"
      },
      "source": [
        "Pilates: The ratio of about 0.86 indicates that for every cancellation, there are approximately 0.86 attendees. This suggests that the number of attendees is slightly less than the number of cancellations.\n",
        "\n",
        "Pilates £2: The ratio is approximately 0.93, which is closer to 1. This suggests that for every person who cancels, there are slightly more attendees, indicating a favorable attendance rate compared to cancellations.\n",
        "\n",
        "Yoga: With a ratio of 0.94, this suggests that the number of attendees is very close to and slightly less than the number of cancellations, which indicates a strong attendance rate.\n",
        "\n",
        "Yoga £2: The ratio here is about 0.88, which suggests that for every cancellation, there are approximately 0.88 attendees. This is slightly lower than the ratio for the regular yoga class, indicating that the paid yoga class has a slightly higher cancellation rate compared to attendance."
      ]
    },
    {
      "cell_type": "code",
      "execution_count": null,
      "id": "f8b6a0a2",
      "metadata": {
        "id": "f8b6a0a2"
      },
      "outputs": [],
      "source": []
    }
  ],
  "metadata": {
    "kernelspec": {
      "display_name": "Python 3 (ipykernel)",
      "language": "python",
      "name": "python3"
    },
    "language_info": {
      "codemirror_mode": {
        "name": "ipython",
        "version": 3
      },
      "file_extension": ".py",
      "mimetype": "text/x-python",
      "name": "python",
      "nbconvert_exporter": "python",
      "pygments_lexer": "ipython3",
      "version": "3.11.5"
    },
    "colab": {
      "provenance": [],
      "include_colab_link": true
    }
  },
  "nbformat": 4,
  "nbformat_minor": 5
}